{
  "nbformat": 4,
  "nbformat_minor": 0,
  "metadata": {
    "colab": {
      "name": "score_data_analysis.ipynb",
      "provenance": [],
      "collapsed_sections": [],
      "toc_visible": true
    },
    "kernelspec": {
      "name": "python3",
      "display_name": "Python 3"
    }
  },
  "cells": [
    {
      "cell_type": "markdown",
      "metadata": {
        "id": "SwHqrpvZuzkW"
      },
      "source": [
        "# **Fazendo um modelo de predição se os clientes enviados ao banco irão ser convertidos ou não.**"
      ]
    },
    {
      "cell_type": "markdown",
      "metadata": {
        "id": "P943wnPJvEj1"
      },
      "source": [
        "\r\n",
        "\r\n",
        "---\r\n",
        "\r\n",
        "---\r\n",
        "\r\n",
        "\r\n",
        "\r\n"
      ]
    },
    {
      "cell_type": "markdown",
      "metadata": {
        "id": "1Ul3W13RCLia"
      },
      "source": [
        "Instalando bibliotecas e verificando o Dataset\r\n",
        "Carrega pacotes"
      ]
    },
    {
      "cell_type": "code",
      "metadata": {
        "id": "iOm7uR4KB11n"
      },
      "source": [
        "## Importa pacotes\n",
        "import numpy as np\n",
        "import matplotlib.pyplot as plt\n",
        "import matplotlib.colors as colors\n",
        "\n",
        "import seaborn as sns\n",
        "import scipy\n",
        "import sklearn\n",
        "import pandas as pd\n",
        "import statsmodels.formula.api as smf\n",
        "from sklearn.metrics import mean_absolute_error\n",
        "from sklearn.metrics import plot_confusion_matrix\n",
        "from sklearn.metrics import confusion_matrix\n",
        "from sklearn.model_selection import train_test_split\n",
        "from sklearn.model_selection import GridSearchCV\n",
        "\n",
        "#vamos importar os algoritmos a serem explorados\n",
        "from sklearn.metrics import f1_score,accuracy_score\n",
        "from imblearn.over_sampling import SMOTE, ADASYN\n",
        "from imblearn.under_sampling import RandomUnderSampler\n",
        "from imblearn.over_sampling import RandomOverSampler\n",
        "from collections import Counter\n",
        "\n",
        "#from sklearn.svm import svm\n",
        "from sklearn.preprocessing import scale\n",
        "from sklearn.decomposition import PCA\n",
        "\n",
        "\n",
        "import xgboost as xgb\n",
        "from sklearn import metrics\n",
        "\n",
        "\n",
        "import warnings\n",
        "warnings.filterwarnings(\"ignore\")\n",
        "\n",
        "\n",
        "\n",
        "#import janitor"
      ],
      "execution_count": null,
      "outputs": []
    },
    {
      "cell_type": "markdown",
      "metadata": {
        "id": "Q4weiqYEvNTx"
      },
      "source": [
        "Lendo os dados da empresa:"
      ]
    },
    {
      "cell_type": "code",
      "metadata": {
        "id": "n2SBLA1RCKJ3",
        "colab": {
          "base_uri": "https://localhost:8080/",
          "height": 377
        },
        "outputId": "592d1348-169a-4da5-f940-ba6f1c082b8f"
      },
      "source": [
        "df = pd.read_csv('/content/DadosEmpresaXYZ.csv')\r\n",
        "\r\n",
        "df.head()\r\n",
        "\r\n"
      ],
      "execution_count": null,
      "outputs": [
        {
          "output_type": "execute_result",
          "data": {
            "text/html": [
              "<div>\n",
              "<style scoped>\n",
              "    .dataframe tbody tr th:only-of-type {\n",
              "        vertical-align: middle;\n",
              "    }\n",
              "\n",
              "    .dataframe tbody tr th {\n",
              "        vertical-align: top;\n",
              "    }\n",
              "\n",
              "    .dataframe thead th {\n",
              "        text-align: right;\n",
              "    }\n",
              "</style>\n",
              "<table border=\"1\" class=\"dataframe\">\n",
              "  <thead>\n",
              "    <tr style=\"text-align: right;\">\n",
              "      <th></th>\n",
              "      <th>sessão_data_hora</th>\n",
              "      <th>estado</th>\n",
              "      <th>mensagem_estado</th>\n",
              "      <th>receita</th>\n",
              "      <th>affiliate_unique_1</th>\n",
              "      <th>pais</th>\n",
              "      <th>região</th>\n",
              "      <th>cidade</th>\n",
              "      <th>navegador</th>\n",
              "      <th>marca_dispositivo</th>\n",
              "      <th>modelo_de_dispositivo</th>\n",
              "      <th>genero</th>\n",
              "      <th>login_google</th>\n",
              "      <th>login_facebook</th>\n",
              "      <th>login_senha</th>\n",
              "      <th>negativado</th>\n",
              "      <th>negativado_data</th>\n",
              "      <th>restricao_1</th>\n",
              "      <th>restricao_1_data</th>\n",
              "      <th>primeiro_cartao</th>\n",
              "      <th>primeiro_cartao_data</th>\n",
              "      <th>renda</th>\n",
              "      <th>nascimento</th>\n",
              "      <th>telefone_verificado</th>\n",
              "      <th>email_verificado</th>\n",
              "      <th>tipo_ocupacao</th>\n",
              "      <th>uf</th>\n",
              "      <th>score</th>\n",
              "      <th>score_data</th>\n",
              "      <th>score_debito</th>\n",
              "      <th>score_consumidor_positivo</th>\n",
              "    </tr>\n",
              "  </thead>\n",
              "  <tbody>\n",
              "    <tr>\n",
              "      <th>0</th>\n",
              "      <td>2020-08-31 2:34:57</td>\n",
              "      <td>approved</td>\n",
              "      <td>Tracking cookie de cliente</td>\n",
              "      <td>NÃO</td>\n",
              "      <td>5f4c7de4340fc00007e8c284</td>\n",
              "      <td>Brazil</td>\n",
              "      <td>Sao Paulo</td>\n",
              "      <td>Sao Paulo</td>\n",
              "      <td>Android</td>\n",
              "      <td>Motorola</td>\n",
              "      <td>Moto G8 Play</td>\n",
              "      <td>NaN</td>\n",
              "      <td>NaN</td>\n",
              "      <td>NaN</td>\n",
              "      <td>NaN</td>\n",
              "      <td>NaN</td>\n",
              "      <td>NaN</td>\n",
              "      <td>NaN</td>\n",
              "      <td>NaN</td>\n",
              "      <td>NaN</td>\n",
              "      <td>NaN</td>\n",
              "      <td>NaN</td>\n",
              "      <td>NaN</td>\n",
              "      <td>NaN</td>\n",
              "      <td>NaN</td>\n",
              "      <td>NaN</td>\n",
              "      <td>NaN</td>\n",
              "      <td>NaN</td>\n",
              "      <td>NaN</td>\n",
              "      <td>NaN</td>\n",
              "      <td>NaN</td>\n",
              "    </tr>\n",
              "    <tr>\n",
              "      <th>1</th>\n",
              "      <td>2020-09-02 17:30:27</td>\n",
              "      <td>rejected</td>\n",
              "      <td>Duplicar Conversão por Transação ID</td>\n",
              "      <td>NÃO</td>\n",
              "      <td>5f4ff2c4f83bd900083ea67c</td>\n",
              "      <td>Brazil</td>\n",
              "      <td>Sao Paulo</td>\n",
              "      <td>Sao Paulo</td>\n",
              "      <td>Android</td>\n",
              "      <td>Motorola</td>\n",
              "      <td>Moto E6 Plus</td>\n",
              "      <td>NaN</td>\n",
              "      <td>NaN</td>\n",
              "      <td>NaN</td>\n",
              "      <td>NaN</td>\n",
              "      <td>NaN</td>\n",
              "      <td>NaN</td>\n",
              "      <td>NaN</td>\n",
              "      <td>NaN</td>\n",
              "      <td>NaN</td>\n",
              "      <td>NaN</td>\n",
              "      <td>NaN</td>\n",
              "      <td>NaN</td>\n",
              "      <td>NaN</td>\n",
              "      <td>NaN</td>\n",
              "      <td>NaN</td>\n",
              "      <td>NaN</td>\n",
              "      <td>NaN</td>\n",
              "      <td>NaN</td>\n",
              "      <td>NaN</td>\n",
              "      <td>NaN</td>\n",
              "    </tr>\n",
              "    <tr>\n",
              "      <th>2</th>\n",
              "      <td>2020-09-02 17:30:27</td>\n",
              "      <td>rejected</td>\n",
              "      <td>Duplicar Conversão por Transação ID</td>\n",
              "      <td>NÃO</td>\n",
              "      <td>5f4ff2c4f83bd900083ea67c</td>\n",
              "      <td>Brazil</td>\n",
              "      <td>Sao Paulo</td>\n",
              "      <td>Sao Paulo</td>\n",
              "      <td>Android</td>\n",
              "      <td>Motorola</td>\n",
              "      <td>Moto E6 Plus</td>\n",
              "      <td>NaN</td>\n",
              "      <td>NaN</td>\n",
              "      <td>NaN</td>\n",
              "      <td>NaN</td>\n",
              "      <td>NaN</td>\n",
              "      <td>NaN</td>\n",
              "      <td>NaN</td>\n",
              "      <td>NaN</td>\n",
              "      <td>NaN</td>\n",
              "      <td>NaN</td>\n",
              "      <td>NaN</td>\n",
              "      <td>NaN</td>\n",
              "      <td>NaN</td>\n",
              "      <td>NaN</td>\n",
              "      <td>NaN</td>\n",
              "      <td>NaN</td>\n",
              "      <td>NaN</td>\n",
              "      <td>NaN</td>\n",
              "      <td>NaN</td>\n",
              "      <td>NaN</td>\n",
              "    </tr>\n",
              "    <tr>\n",
              "      <th>3</th>\n",
              "      <td>2020-09-02 20:29:50</td>\n",
              "      <td>rejected</td>\n",
              "      <td>Duplicar Conversão por Transação ID</td>\n",
              "      <td>NÃO</td>\n",
              "      <td>5f501cd0f6a49900080eba08</td>\n",
              "      <td>Brazil</td>\n",
              "      <td>Santa Catarina</td>\n",
              "      <td>Jaragua Do Sul</td>\n",
              "      <td>Android</td>\n",
              "      <td>Samsung</td>\n",
              "      <td>SM-J700M</td>\n",
              "      <td>NaN</td>\n",
              "      <td>NaN</td>\n",
              "      <td>NaN</td>\n",
              "      <td>NaN</td>\n",
              "      <td>NaN</td>\n",
              "      <td>NaN</td>\n",
              "      <td>NaN</td>\n",
              "      <td>NaN</td>\n",
              "      <td>NaN</td>\n",
              "      <td>NaN</td>\n",
              "      <td>NaN</td>\n",
              "      <td>NaN</td>\n",
              "      <td>NaN</td>\n",
              "      <td>NaN</td>\n",
              "      <td>NaN</td>\n",
              "      <td>NaN</td>\n",
              "      <td>NaN</td>\n",
              "      <td>NaN</td>\n",
              "      <td>NaN</td>\n",
              "      <td>NaN</td>\n",
              "    </tr>\n",
              "    <tr>\n",
              "      <th>4</th>\n",
              "      <td>2020-09-02 20:29:50</td>\n",
              "      <td>rejected</td>\n",
              "      <td>Duplicar Conversão por Transação ID</td>\n",
              "      <td>NÃO</td>\n",
              "      <td>5f501cd0f6a49900080eba08</td>\n",
              "      <td>Brazil</td>\n",
              "      <td>Santa Catarina</td>\n",
              "      <td>Jaragua Do Sul</td>\n",
              "      <td>Android</td>\n",
              "      <td>Samsung</td>\n",
              "      <td>SM-J700M</td>\n",
              "      <td>NaN</td>\n",
              "      <td>NaN</td>\n",
              "      <td>NaN</td>\n",
              "      <td>NaN</td>\n",
              "      <td>NaN</td>\n",
              "      <td>NaN</td>\n",
              "      <td>NaN</td>\n",
              "      <td>NaN</td>\n",
              "      <td>NaN</td>\n",
              "      <td>NaN</td>\n",
              "      <td>NaN</td>\n",
              "      <td>NaN</td>\n",
              "      <td>NaN</td>\n",
              "      <td>NaN</td>\n",
              "      <td>NaN</td>\n",
              "      <td>NaN</td>\n",
              "      <td>NaN</td>\n",
              "      <td>NaN</td>\n",
              "      <td>NaN</td>\n",
              "      <td>NaN</td>\n",
              "    </tr>\n",
              "  </tbody>\n",
              "</table>\n",
              "</div>"
            ],
            "text/plain": [
              "      sessão_data_hora    estado  ... score_debito score_consumidor_positivo\n",
              "0   2020-08-31 2:34:57  approved  ...          NaN                       NaN\n",
              "1  2020-09-02 17:30:27  rejected  ...          NaN                       NaN\n",
              "2  2020-09-02 17:30:27  rejected  ...          NaN                       NaN\n",
              "3  2020-09-02 20:29:50  rejected  ...          NaN                       NaN\n",
              "4  2020-09-02 20:29:50  rejected  ...          NaN                       NaN\n",
              "\n",
              "[5 rows x 31 columns]"
            ]
          },
          "metadata": {
            "tags": []
          },
          "execution_count": 3
        }
      ]
    },
    {
      "cell_type": "markdown",
      "metadata": {
        "id": "Ge6qYtrCOFxg"
      },
      "source": [
        "**Primeira análise des dados:**\r\n",
        "\r\n"
      ]
    },
    {
      "cell_type": "code",
      "metadata": {
        "colab": {
          "base_uri": "https://localhost:8080/"
        },
        "id": "XvcNhY7KEL7V",
        "outputId": "41cb86af-cb44-43b3-a9f5-506e9353167d"
      },
      "source": [
        "df.info()"
      ],
      "execution_count": null,
      "outputs": [
        {
          "output_type": "stream",
          "text": [
            "<class 'pandas.core.frame.DataFrame'>\n",
            "RangeIndex: 35855 entries, 0 to 35854\n",
            "Data columns (total 31 columns):\n",
            " #   Column                     Non-Null Count  Dtype  \n",
            "---  ------                     --------------  -----  \n",
            " 0   sessão_data_hora           35855 non-null  object \n",
            " 1   estado                     35855 non-null  object \n",
            " 2   mensagem_estado            35855 non-null  object \n",
            " 3   receita                    35855 non-null  object \n",
            " 4   affiliate_unique_1         35855 non-null  object \n",
            " 5   pais                       35855 non-null  object \n",
            " 6   região                     35855 non-null  object \n",
            " 7   cidade                     35855 non-null  object \n",
            " 8   navegador                  35843 non-null  object \n",
            " 9   marca_dispositivo          35854 non-null  object \n",
            " 10  modelo_de_dispositivo      35850 non-null  object \n",
            " 11  genero                     2055 non-null   object \n",
            " 12  login_google               6350 non-null   object \n",
            " 13  login_facebook             6350 non-null   object \n",
            " 14  login_senha                6350 non-null   object \n",
            " 15  negativado                 3570 non-null   object \n",
            " 16  negativado_data            3037 non-null   object \n",
            " 17  restricao_1                3255 non-null   object \n",
            " 18  restricao_1_data           3255 non-null   object \n",
            " 19  primeiro_cartao            250 non-null    object \n",
            " 20  primeiro_cartao_data       250 non-null    object \n",
            " 21  renda                      1692 non-null   float64\n",
            " 22  nascimento                 2447 non-null   object \n",
            " 23  telefone_verificado        6350 non-null   object \n",
            " 24  email_verificado           6350 non-null   object \n",
            " 25  tipo_ocupacao              2023 non-null   object \n",
            " 26  uf                         1968 non-null   object \n",
            " 27  score                      1475 non-null   float64\n",
            " 28  score_data                 1475 non-null   object \n",
            " 29  score_debito               1475 non-null   object \n",
            " 30  score_consumidor_positivo  1475 non-null   object \n",
            "dtypes: float64(2), object(29)\n",
            "memory usage: 8.5+ MB\n"
          ],
          "name": "stdout"
        }
      ]
    },
    {
      "cell_type": "code",
      "metadata": {
        "colab": {
          "base_uri": "https://localhost:8080/"
        },
        "id": "X9qtgmZERXTY",
        "outputId": "fc4c409c-af40-4fc2-8f6d-461007b918c6"
      },
      "source": [
        "df.nunique()"
      ],
      "execution_count": null,
      "outputs": [
        {
          "output_type": "execute_result",
          "data": {
            "text/plain": [
              "sessão_data_hora             21582\n",
              "estado                           3\n",
              "mensagem_estado                  3\n",
              "receita                          2\n",
              "affiliate_unique_1           21830\n",
              "pais                            17\n",
              "região                          66\n",
              "cidade                        1879\n",
              "navegador                        6\n",
              "marca_dispositivo               40\n",
              "modelo_de_dispositivo          495\n",
              "genero                           3\n",
              "login_google                     1\n",
              "login_facebook                   1\n",
              "login_senha                      1\n",
              "negativado                       4\n",
              "negativado_data               1730\n",
              "restricao_1                      2\n",
              "restricao_1_data              1885\n",
              "primeiro_cartao                  2\n",
              "primeiro_cartao_data           150\n",
              "renda                          260\n",
              "nascimento                    1351\n",
              "telefone_verificado              2\n",
              "email_verificado                 2\n",
              "tipo_ocupacao                    9\n",
              "uf                              51\n",
              "score                          335\n",
              "score_data                     838\n",
              "score_debito                     2\n",
              "score_consumidor_positivo        2\n",
              "dtype: int64"
            ]
          },
          "metadata": {
            "tags": []
          },
          "execution_count": 5
        }
      ]
    },
    {
      "cell_type": "markdown",
      "metadata": {
        "id": "sqANzKxtOOh4"
      },
      "source": [
        "**Retirando campos que tem valor único e alguns de data ( que já tem um correspondente categórico depois). **"
      ]
    },
    {
      "cell_type": "code",
      "metadata": {
        "id": "g7ZBx-rXOCkW"
      },
      "source": [
        "df.drop(labels=['sessão_data_hora', 'região', 'estado', 'cidade', 'navegador', 'email_verificado', 'telefone_verificado', 'marca_dispositivo', 'mensagem_estado', 'modelo_de_dispositivo', 'login_google', 'login_facebook', 'login_senha', 'pais', 'negativado_data', 'primeiro_cartao_data', 'restricao_1_data', 'score_data'], axis=1, inplace=True )\r\n"
      ],
      "execution_count": null,
      "outputs": []
    },
    {
      "cell_type": "markdown",
      "metadata": {
        "id": "9p8CtIxcRhHg"
      },
      "source": [
        "Eliminando itens duplicados:"
      ]
    },
    {
      "cell_type": "code",
      "metadata": {
        "id": "sd6ILp-LXHpB"
      },
      "source": [
        "df.drop_duplicates(inplace=True)"
      ],
      "execution_count": null,
      "outputs": []
    },
    {
      "cell_type": "code",
      "metadata": {
        "id": "d8lST4SsViSl"
      },
      "source": [
        "df.fillna('NÃO', inplace=True)"
      ],
      "execution_count": null,
      "outputs": []
    },
    {
      "cell_type": "markdown",
      "metadata": {
        "id": "h3RoPCEJwkcu"
      },
      "source": [
        "- Padronizando valores booleanos para 0 e 1 para depois conseguirmos transformar em categóricos.\r\n",
        "- Agrupando estados por região\r\n",
        "- Transformando dados de data de nascimento para calcular idade\r\n"
      ]
    },
    {
      "cell_type": "code",
      "metadata": {
        "id": "BOjQpT97X2HZ"
      },
      "source": [
        "df.apply(pd.Series.replace, to_replace='NÃO', value=0, inplace=True)\r\n",
        "df.apply(pd.Series.replace, to_replace='SIM', value=1, inplace=True)\r\n",
        "df.apply(pd.Series.replace, to_replace='no', value=0, inplace=True)\r\n",
        "df.apply(pd.Series.replace, to_replace='yes', value=1, inplace=True)\r\n",
        "df.apply(pd.Series.replace, to_replace='yes-but-solving', value=1, inplace=True)\r\n",
        "df.apply(pd.Series.replace, to_replace='yes-solved', value=1, inplace=True)\r\n",
        "\r\n",
        "\r\n",
        "\r\n",
        "def regioes(row):\r\n",
        "    if str(row).upper() in ('GO', 'MS', 'MT', 'DF'):\r\n",
        "      return 'centro'\r\n",
        "    elif str(row).upper() in ('AC', 'AM', 'PA', 'RN', 'RO' , 'TO') :\r\n",
        "      return 'norte'\r\n",
        "    elif str(row).upper() in ('AL', 'BA', 'CE', 'MA', 'PI' , 'PE', 'PB', 'RN', 'SE' ) :\r\n",
        "      return 'nordeste'\r\n",
        "    elif str(row).upper() in ('RS', 'PR', 'SC' ):\r\n",
        "      return 'sul'\r\n",
        "    elif str(row).upper() in ('RJ', 'SP', 'ES', 'MG' ):\r\n",
        "      return 'sudeste'\r\n",
        "    else:\r\n",
        "      return 'outro'\r\n",
        "\r\n",
        "df['regioes'] = df['uf'].apply(regioes)\r\n",
        "\r\n",
        "\r\n",
        "def transgenero(row):\r\n",
        "    if str(row).upper() not in ('F', 'M'):\r\n",
        "      return 'O'\r\n",
        "    else:\r\n",
        "      return str(row).upper()\r\n",
        "\r\n",
        "df['genero'] = df['genero'].apply(transgenero)"
      ],
      "execution_count": null,
      "outputs": []
    },
    {
      "cell_type": "code",
      "metadata": {
        "colab": {
          "base_uri": "https://localhost:8080/"
        },
        "id": "ZGcln-FHQMLl",
        "outputId": "cea28fdf-9723-4b98-c282-12e07316bc44"
      },
      "source": [
        "print('{:.2f} % da coluna ocupação está vazia'.format((df['tipo_ocupacao'] == 0).sum() / len(df) * 100))\r\n",
        "print('{:.2f} % da coluna uf está vazia'.format((df['uf'] == 0).sum() / len(df) * 100))\r\n",
        "\r\n",
        "#(df['uf'] == '0').sum() / len(df)"
      ],
      "execution_count": null,
      "outputs": [
        {
          "output_type": "stream",
          "text": [
            "94.56 % da coluna ocupação está vazia\n",
            "94.70 % da coluna uf está vazia\n"
          ],
          "name": "stdout"
        }
      ]
    },
    {
      "cell_type": "code",
      "metadata": {
        "id": "lXAIhRB46gMs",
        "colab": {
          "base_uri": "https://localhost:8080/"
        },
        "outputId": "94db81dc-b7bc-46fa-b2d6-685fd52ab9ec"
      },
      "source": [
        "# Verificando percentual de itens com valor 0:\r\n",
        "df['uf'].unique()\r\n",
        "\r\n"
      ],
      "execution_count": null,
      "outputs": [
        {
          "output_type": "execute_result",
          "data": {
            "text/plain": [
              "array([0, 'PA', 'rj', 'sp', 'ba', 'sc', 'RJ', 'PE', 'pi', 'PB', 'mg',\n",
              "       'SP', 'CE', 'ce', 'pb', 'GO', 'MG', 'ms', 'MT', 'pr', 'al', 'pe',\n",
              "       'BA', 'rn', 'MS', 'PI', 'RS', 'es', 'PR', 'go', 'SC', 'rs', 'ma',\n",
              "       'RN', 'ES', 'pa', 'mt', 'ac', 'df', 'AC', 'MA', 'DF', 'AP', 'AL',\n",
              "       'SE', 'ro', 'se', 'ap', 'am', 'AM', 'TO', 'RO'], dtype=object)"
            ]
          },
          "metadata": {
            "tags": []
          },
          "execution_count": 11
        }
      ]
    },
    {
      "cell_type": "code",
      "metadata": {
        "id": "OoXp23VXZa6l"
      },
      "source": [
        "#df.astype({'receita': 'category', 'genero' : 'category',  'negativado': 'category', 'restricao_1': 'category',\r\n",
        "#'primeiro_cartao': 'category', 'telefone_verificado': 'category', 'email_verificado' : 'category', \r\n",
        "#'score_debito' : 'category', 'score_consumidor_positivo' : 'category', 'estado': 'category'})\r\n",
        "\r\n",
        "df.receita = df.receita.astype('category')\r\n",
        "df['genero'] = df.genero.astype('category')\r\n",
        "df['negativado'] = df.negativado.astype('category')\r\n",
        "df['restricao_1'] = df.restricao_1.astype('category')\r\n",
        "df['primeiro_cartao'] = df.primeiro_cartao.astype('category')\r\n",
        "df['score_debito'] = df.score_debito.astype('category')\r\n",
        "df['score_consumidor_positivo'] = df.score_consumidor_positivo.astype('category')\r\n",
        "df['nascimento'] = df.nascimento.astype('string')\r\n",
        "\r\n"
      ],
      "execution_count": null,
      "outputs": []
    },
    {
      "cell_type": "code",
      "metadata": {
        "id": "UbFvMWhNxVrU"
      },
      "source": [
        "#Verificando datas de nascimento vazias e atualizando resultado\r\n",
        "from datetime import datetime\r\n",
        "\r\n",
        "func = lambda row: str(datetime.now()) if row == '0' else row\r\n",
        "\r\n",
        "df['nascimento'] = df['nascimento'].apply(func)"
      ],
      "execution_count": null,
      "outputs": []
    },
    {
      "cell_type": "code",
      "metadata": {
        "id": "JTtyKDWeyuPS"
      },
      "source": [
        "from datetime import datetime\r\n",
        "\r\n",
        "#type(df['nascimento'])\r\n",
        "df['Date_Converted'] = df['nascimento'].apply(lambda x: datetime.strptime(x[:10],'%Y-%m-%d'))\r\n",
        "now = pd.Timestamp('now')\r\n",
        "#df['dob'] = pd.to_datetime(df['Date_Converted'], format='%m%d%y')    # 1\r\n",
        "df['Date_Converted'] = df['Date_Converted'].where(df['Date_Converted'] < now, df['Date_Converted'] -  np.timedelta64(100, 'Y'))   # 2\r\n",
        "df['age'] = (now - df['Date_Converted']).astype('<m8[Y]')    # 3\r\n",
        "\r\n"
      ],
      "execution_count": null,
      "outputs": []
    },
    {
      "cell_type": "markdown",
      "metadata": {
        "id": "gRDi1aUoxMIU"
      },
      "source": [
        "Criando variáveis dummies:"
      ]
    },
    {
      "cell_type": "code",
      "metadata": {
        "id": "C4ErCp4PCNLR"
      },
      "source": [
        "df = pd.get_dummies(df, columns = ['tipo_ocupacao'] , dummy_na=False)\r\n",
        "df = pd.get_dummies(df, columns = ['regioes'] , dummy_na=False)\r\n",
        "df = pd.get_dummies(df, columns = ['genero'] , dummy_na=False)\r\n",
        "\r\n"
      ],
      "execution_count": null,
      "outputs": []
    },
    {
      "cell_type": "markdown",
      "metadata": {
        "id": "5zHDWiwXwJMh"
      },
      "source": [
        "Agora podemos excluir a data de nascimento, o date_converted e o uf, pois temos tudo calculado em categórica."
      ]
    },
    {
      "cell_type": "code",
      "metadata": {
        "id": "DfhdeTmKwInt"
      },
      "source": [
        "df.drop(labels=['nascimento', 'Date_Converted', 'affiliate_unique_1', 'uf'], axis=1, inplace=True )"
      ],
      "execution_count": null,
      "outputs": []
    },
    {
      "cell_type": "code",
      "metadata": {
        "colab": {
          "base_uri": "https://localhost:8080/"
        },
        "id": "u7fngYptFMxQ",
        "outputId": "748eca0a-4d18-474f-ebca-baa876f0c35a"
      },
      "source": [
        "df.info()"
      ],
      "execution_count": null,
      "outputs": [
        {
          "output_type": "stream",
          "text": [
            "<class 'pandas.core.frame.DataFrame'>\n",
            "Int64Index: 21892 entries, 0 to 35853\n",
            "Data columns (total 28 columns):\n",
            " #   Column                                          Non-Null Count  Dtype   \n",
            "---  ------                                          --------------  -----   \n",
            " 0   receita                                         21892 non-null  category\n",
            " 1   negativado                                      21892 non-null  category\n",
            " 2   restricao_1                                     21892 non-null  category\n",
            " 3   primeiro_cartao                                 21892 non-null  category\n",
            " 4   renda                                           21892 non-null  float64 \n",
            " 5   score                                           21892 non-null  float64 \n",
            " 6   score_debito                                    21892 non-null  category\n",
            " 7   score_consumidor_positivo                       21892 non-null  category\n",
            " 8   age                                             21892 non-null  float64 \n",
            " 9   tipo_ocupacao_0                                 21892 non-null  uint8   \n",
            " 10  tipo_ocupacao_aposentado                        21892 non-null  uint8   \n",
            " 11  tipo_ocupacao_autonomo                          21892 non-null  uint8   \n",
            " 12  tipo_ocupacao_desempregado                      21892 non-null  uint8   \n",
            " 13  tipo_ocupacao_empresario                        21892 non-null  uint8   \n",
            " 14  tipo_ocupacao_microempreendedor-individual-mei  21892 non-null  uint8   \n",
            " 15  tipo_ocupacao_militar                           21892 non-null  uint8   \n",
            " 16  tipo_ocupacao_pensionista                       21892 non-null  uint8   \n",
            " 17  tipo_ocupacao_servidor-publico                  21892 non-null  uint8   \n",
            " 18  tipo_ocupacao_trabalho-em-empresa-assalariado   21892 non-null  uint8   \n",
            " 19  regioes_centro                                  21892 non-null  uint8   \n",
            " 20  regioes_nordeste                                21892 non-null  uint8   \n",
            " 21  regioes_norte                                   21892 non-null  uint8   \n",
            " 22  regioes_outro                                   21892 non-null  uint8   \n",
            " 23  regioes_sudeste                                 21892 non-null  uint8   \n",
            " 24  regioes_sul                                     21892 non-null  uint8   \n",
            " 25  genero_F                                        21892 non-null  uint8   \n",
            " 26  genero_M                                        21892 non-null  uint8   \n",
            " 27  genero_O                                        21892 non-null  uint8   \n",
            "dtypes: category(6), float64(3), uint8(19)\n",
            "memory usage: 1.2 MB\n"
          ],
          "name": "stdout"
        }
      ]
    },
    {
      "cell_type": "code",
      "metadata": {
        "colab": {
          "base_uri": "https://localhost:8080/"
        },
        "id": "5ik3OvOc0ngP",
        "outputId": "0d96bd2f-15fc-473d-9264-1418193440f7"
      },
      "source": [
        "df['negativado'].unique()"
      ],
      "execution_count": null,
      "outputs": [
        {
          "output_type": "execute_result",
          "data": {
            "text/plain": [
              "[0, 1]\n",
              "Categories (2, int64): [0, 1]"
            ]
          },
          "metadata": {
            "tags": []
          },
          "execution_count": 18
        }
      ]
    },
    {
      "cell_type": "code",
      "metadata": {
        "id": "oVTf4WnL644i",
        "colab": {
          "base_uri": "https://localhost:8080/",
          "height": 346
        },
        "outputId": "9e20c63a-b315-42a4-a5f4-5e7c7f376bc5"
      },
      "source": [
        "target_count = df.receita.value_counts()\r\n",
        "print('Class 0:', target_count[0])\r\n",
        "print('Class 1:', target_count[1])\r\n",
        "print('Proportion:', round(target_count[0] / target_count[1], 2), ':1')\r\n",
        "\r\n",
        "target_count.plot(kind='bar', title='Proporção Convertidos:')\r\n"
      ],
      "execution_count": null,
      "outputs": [
        {
          "output_type": "stream",
          "text": [
            "Class 0: 21286\n",
            "Class 1: 606\n",
            "Proportion: 35.13 :1\n"
          ],
          "name": "stdout"
        },
        {
          "output_type": "execute_result",
          "data": {
            "text/plain": [
              "<matplotlib.axes._subplots.AxesSubplot at 0x7fbd05863898>"
            ]
          },
          "metadata": {
            "tags": []
          },
          "execution_count": 19
        },
        {
          "output_type": "display_data",
          "data": {
            "image/png": "[encoded data removed]",
            "text/plain": [
              "<Figure size 432x288 with 1 Axes>"
            ]
          },
          "metadata": {
            "tags": [],
            "needs_background": "light"
          }
        }
      ]
    },
    {
      "cell_type": "markdown",
      "metadata": {
        "id": "spUfmXDJvxck"
      },
      "source": [
        "Ao verificar que a proporção de convertidos para não convertidos é extremamente desbalanceada, vamos fazer um oversample para que nosso modelo consiga identificar corretamente os 2 grupos."
      ]
    },
    {
      "cell_type": "code",
      "metadata": {
        "id": "xkQdU-L5cl_l"
      },
      "source": [
        "#Fazendo a separação entre X e Y\r\n",
        "\r\n",
        "X = df.drop(columns= ['receita'])\r\n",
        "y = df['receita']\r\n"
      ],
      "execution_count": null,
      "outputs": []
    },
    {
      "cell_type": "code",
      "metadata": {
        "id": "b59znMQywL5o"
      },
      "source": [
        "\r\n"
      ],
      "execution_count": null,
      "outputs": []
    },
    {
      "cell_type": "code",
      "metadata": {
        "id": "9spdes5vdH6l",
        "colab": {
          "base_uri": "https://localhost:8080/"
        },
        "outputId": "b1e1a162-f90c-4be1-ac8d-479dba3cbd05"
      },
      "source": [
        "print('Tamanho dataset original: %s' % Counter(y))\r\n",
        "ros = RandomOverSampler(random_state=42)\r\n",
        "\r\n",
        "X_ros, y_ros = ros.fit_sample(X,y)\r\n",
        "\r\n",
        "print(X_ros.shape[0] - X.shape[0], 'novos pontos de amostras.')\r\n",
        "\r\n",
        "print('Tamanho do dataset aumentado: %s' % Counter(y_ros))"
      ],
      "execution_count": null,
      "outputs": [
        {
          "output_type": "stream",
          "text": [
            "Tamanho dataset original: Counter({0: 21286, 1: 606})\n",
            "20680 novos pontos de amostras.\n",
            "Tamanho do dataset aumentado: Counter({0: 21286, 1: 21286})\n"
          ],
          "name": "stdout"
        }
      ]
    },
    {
      "cell_type": "markdown",
      "metadata": {
        "id": "OHIfeMJNxR6q"
      },
      "source": [
        "Vamos comparar a Acurácia usando XGBoost do Original com o aumentado."
      ]
    },
    {
      "cell_type": "code",
      "metadata": {
        "id": "epr0Xp2Vd2cM"
      },
      "source": [
        "\r\n",
        "\r\n",
        "X_train, X_test, y_train, y_test = train_test_split(X_ros,y_ros, test_size=0.2)"
      ],
      "execution_count": null,
      "outputs": []
    },
    {
      "cell_type": "code",
      "metadata": {
        "id": "MW0La_QSf1oV",
        "colab": {
          "base_uri": "https://localhost:8080/"
        },
        "outputId": "9baa7c3d-9b1c-4eda-f2d8-ecdd40b6a4be"
      },
      "source": [
        "len(X_train), len(X_test)"
      ],
      "execution_count": null,
      "outputs": [
        {
          "output_type": "execute_result",
          "data": {
            "text/plain": [
              "(34057, 8515)"
            ]
          },
          "metadata": {
            "tags": []
          },
          "execution_count": 23
        }
      ]
    },
    {
      "cell_type": "markdown",
      "metadata": {
        "id": "404K0aI5DT_m"
      },
      "source": [
        "Após transformar todas as variáveis em numéricas ou categóricas. Vamos treinar o modelo pelo XGBoost:"
      ]
    },
    {
      "cell_type": "code",
      "metadata": {
        "id": "p3WejksFY3b2",
        "colab": {
          "base_uri": "https://localhost:8080/"
        },
        "outputId": "99ee1a7b-90bc-4531-ff87-6223efd42669"
      },
      "source": [
        "reg = xgb.XGBClassifier(missing=None, seed=42)\r\n",
        "reg.fit(X_train, y_train, verbose=True, early_stopping_rounds=10, eval_metric = 'aucpr', eval_set=[(X_test, y_test)])"
      ],
      "execution_count": null,
      "outputs": [
        {
          "output_type": "stream",
          "text": [
            "[0]\tvalidation_0-aucpr:0.525527\n",
            "Will train until validation_0-aucpr hasn't improved in 10 rounds.\n",
            "[1]\tvalidation_0-aucpr:0.525923\n",
            "[2]\tvalidation_0-aucpr:0.525632\n",
            "[3]\tvalidation_0-aucpr:0.526372\n",
            "[4]\tvalidation_0-aucpr:0.526106\n",
            "[5]\tvalidation_0-aucpr:0.526935\n",
            "[6]\tvalidation_0-aucpr:0.533029\n",
            "[7]\tvalidation_0-aucpr:0.533029\n",
            "[8]\tvalidation_0-aucpr:0.550918\n",
            "[9]\tvalidation_0-aucpr:0.550944\n",
            "[10]\tvalidation_0-aucpr:0.552112\n",
            "[11]\tvalidation_0-aucpr:0.552592\n",
            "[12]\tvalidation_0-aucpr:0.553772\n",
            "[13]\tvalidation_0-aucpr:0.554582\n",
            "[14]\tvalidation_0-aucpr:0.554176\n",
            "[15]\tvalidation_0-aucpr:0.555333\n",
            "[16]\tvalidation_0-aucpr:0.556313\n",
            "[17]\tvalidation_0-aucpr:0.557057\n",
            "[18]\tvalidation_0-aucpr:0.564016\n",
            "[19]\tvalidation_0-aucpr:0.565203\n",
            "[20]\tvalidation_0-aucpr:0.565345\n",
            "[21]\tvalidation_0-aucpr:0.565269\n",
            "[22]\tvalidation_0-aucpr:0.562523\n",
            "[23]\tvalidation_0-aucpr:0.56312\n",
            "[24]\tvalidation_0-aucpr:0.563516\n",
            "[25]\tvalidation_0-aucpr:0.566144\n",
            "[26]\tvalidation_0-aucpr:0.567467\n",
            "[27]\tvalidation_0-aucpr:0.567469\n",
            "[28]\tvalidation_0-aucpr:0.568558\n",
            "[29]\tvalidation_0-aucpr:0.567958\n",
            "[30]\tvalidation_0-aucpr:0.568997\n",
            "[31]\tvalidation_0-aucpr:0.573854\n",
            "[32]\tvalidation_0-aucpr:0.574157\n",
            "[33]\tvalidation_0-aucpr:0.57417\n",
            "[34]\tvalidation_0-aucpr:0.570269\n",
            "[35]\tvalidation_0-aucpr:0.570536\n",
            "[36]\tvalidation_0-aucpr:0.570484\n",
            "[37]\tvalidation_0-aucpr:0.571303\n",
            "[38]\tvalidation_0-aucpr:0.571522\n",
            "[39]\tvalidation_0-aucpr:0.57192\n",
            "[40]\tvalidation_0-aucpr:0.571739\n",
            "[41]\tvalidation_0-aucpr:0.572148\n",
            "[42]\tvalidation_0-aucpr:0.577168\n",
            "[43]\tvalidation_0-aucpr:0.577117\n",
            "[44]\tvalidation_0-aucpr:0.577129\n",
            "[45]\tvalidation_0-aucpr:0.577232\n",
            "[46]\tvalidation_0-aucpr:0.577152\n",
            "[47]\tvalidation_0-aucpr:0.577912\n",
            "[48]\tvalidation_0-aucpr:0.577807\n",
            "[49]\tvalidation_0-aucpr:0.578362\n",
            "[50]\tvalidation_0-aucpr:0.581254\n",
            "[51]\tvalidation_0-aucpr:0.581299\n",
            "[52]\tvalidation_0-aucpr:0.581407\n",
            "[53]\tvalidation_0-aucpr:0.58241\n",
            "[54]\tvalidation_0-aucpr:0.582534\n",
            "[55]\tvalidation_0-aucpr:0.58379\n",
            "[56]\tvalidation_0-aucpr:0.584011\n",
            "[57]\tvalidation_0-aucpr:0.58435\n",
            "[58]\tvalidation_0-aucpr:0.584447\n",
            "[59]\tvalidation_0-aucpr:0.584641\n",
            "[60]\tvalidation_0-aucpr:0.584975\n",
            "[61]\tvalidation_0-aucpr:0.584796\n",
            "[62]\tvalidation_0-aucpr:0.584912\n",
            "[63]\tvalidation_0-aucpr:0.584955\n",
            "[64]\tvalidation_0-aucpr:0.584975\n",
            "[65]\tvalidation_0-aucpr:0.587487\n",
            "[66]\tvalidation_0-aucpr:0.587923\n",
            "[67]\tvalidation_0-aucpr:0.587935\n",
            "[68]\tvalidation_0-aucpr:0.587941\n",
            "[69]\tvalidation_0-aucpr:0.588606\n",
            "[70]\tvalidation_0-aucpr:0.589306\n",
            "[71]\tvalidation_0-aucpr:0.589827\n",
            "[72]\tvalidation_0-aucpr:0.589715\n",
            "[73]\tvalidation_0-aucpr:0.590143\n",
            "[74]\tvalidation_0-aucpr:0.590051\n",
            "[75]\tvalidation_0-aucpr:0.590719\n",
            "[76]\tvalidation_0-aucpr:0.590884\n",
            "[77]\tvalidation_0-aucpr:0.591189\n",
            "[78]\tvalidation_0-aucpr:0.590953\n",
            "[79]\tvalidation_0-aucpr:0.591238\n",
            "[80]\tvalidation_0-aucpr:0.591352\n",
            "[81]\tvalidation_0-aucpr:0.59189\n",
            "[82]\tvalidation_0-aucpr:0.591845\n",
            "[83]\tvalidation_0-aucpr:0.592683\n",
            "[84]\tvalidation_0-aucpr:0.592702\n",
            "[85]\tvalidation_0-aucpr:0.592692\n",
            "[86]\tvalidation_0-aucpr:0.592597\n",
            "[87]\tvalidation_0-aucpr:0.596808\n",
            "[88]\tvalidation_0-aucpr:0.596837\n",
            "[89]\tvalidation_0-aucpr:0.596812\n",
            "[90]\tvalidation_0-aucpr:0.596529\n",
            "[91]\tvalidation_0-aucpr:0.594978\n",
            "[92]\tvalidation_0-aucpr:0.594889\n",
            "[93]\tvalidation_0-aucpr:0.595015\n",
            "[94]\tvalidation_0-aucpr:0.59501\n",
            "[95]\tvalidation_0-aucpr:0.593992\n",
            "[96]\tvalidation_0-aucpr:0.593967\n",
            "[97]\tvalidation_0-aucpr:0.594004\n",
            "[98]\tvalidation_0-aucpr:0.594056\n",
            "Stopping. Best iteration:\n",
            "[88]\tvalidation_0-aucpr:0.596837\n",
            "\n"
          ],
          "name": "stdout"
        },
        {
          "output_type": "execute_result",
          "data": {
            "text/plain": [
              "XGBClassifier(base_score=0.5, booster='gbtree', colsample_bylevel=1,\n",
              "              colsample_bynode=1, colsample_bytree=1, gamma=0,\n",
              "              learning_rate=0.1, max_delta_step=0, max_depth=3,\n",
              "              min_child_weight=1, missing=None, n_estimators=100, n_jobs=1,\n",
              "              nthread=None, objective='binary:logistic', random_state=0,\n",
              "              reg_alpha=0, reg_lambda=1, scale_pos_weight=1, seed=42,\n",
              "              silent=None, subsample=1, verbosity=1)"
            ]
          },
          "metadata": {
            "tags": []
          },
          "execution_count": 24
        }
      ]
    },
    {
      "cell_type": "code",
      "metadata": {
        "colab": {
          "base_uri": "https://localhost:8080/",
          "height": 296
        },
        "id": "ZCRpGXYNDseS",
        "outputId": "d2ebf9d4-050b-4914-81ad-f9a5703c617b"
      },
      "source": [
        "plot_confusion_matrix(reg, X_test, y_test, values_format='d', display_labels=['Não convertidos', 'Convertidos'])\r\n"
      ],
      "execution_count": null,
      "outputs": [
        {
          "output_type": "execute_result",
          "data": {
            "text/plain": [
              "<sklearn.metrics._plot.confusion_matrix.ConfusionMatrixDisplay at 0x7fbd0589dc88>"
            ]
          },
          "metadata": {
            "tags": []
          },
          "execution_count": 25
        },
        {
          "output_type": "display_data",
          "data": {
            "image/png": "[encoded data removed]",
            "text/plain": [
              "<Figure size 432x288 with 2 Axes>"
            ]
          },
          "metadata": {
            "tags": [],
            "needs_background": "light"
          }
        }
      ]
    },
    {
      "cell_type": "code",
      "metadata": {
        "id": "1fAEvgoT4-_7"
      },
      "source": [
        "y_pred = reg.predict(X_test)\r\n"
      ],
      "execution_count": null,
      "outputs": []
    },
    {
      "cell_type": "code",
      "metadata": {
        "colab": {
          "base_uri": "https://localhost:8080/"
        },
        "id": "LNkmEp3-8A5e",
        "outputId": "a29728c9-cfb0-423b-80b7-976533f7bcc2"
      },
      "source": [
        "#Precision \r\n",
        "tn, fp, fn, tp = confusion_matrix(y_test, y_pred).ravel()\r\n",
        "\r\n",
        "Precision = tp/(tp+fp) \r\n",
        "print(\"Precision {:0.2f}\".format(Precision))\r\n",
        "Recall = tp/(tp+fn) \r\n",
        "print(\"Recall {:0.2f}\".format(Recall))\r\n",
        "f1 = (2*Precision*Recall)/(Precision + Recall)\r\n",
        "print(\"F1 Score {:0.2f}\".format(f1))\r\n",
        "#Specificity \r\n",
        "Specificity = tn/(tn+fp)\r\n",
        "print(\"Specificity {:0.2f}\".format(Specificity))"
      ],
      "execution_count": null,
      "outputs": [
        {
          "output_type": "stream",
          "text": [
            "Precision 0.83\n",
            "Recall 0.10\n",
            "F1 Score 0.17\n",
            "Specificity 0.98\n"
          ],
          "name": "stdout"
        }
      ]
    },
    {
      "cell_type": "code",
      "metadata": {
        "colab": {
          "base_uri": "https://localhost:8080/",
          "height": 282
        },
        "id": "RBOMkKgYEEZm",
        "outputId": "e4257bd5-b5cb-4c0e-de6c-11cc5d1cbed7"
      },
      "source": [
        "cf_matrix = confusion_matrix(y_test, y_pred)\r\n",
        "sns.heatmap(cf_matrix/np.sum(cf_matrix), annot=True, \r\n",
        "            fmt='.2%', cmap='Blues')"
      ],
      "execution_count": null,
      "outputs": [
        {
          "output_type": "execute_result",
          "data": {
            "text/plain": [
              "<matplotlib.axes._subplots.AxesSubplot at 0x7fbd05793128>"
            ]
          },
          "metadata": {
            "tags": []
          },
          "execution_count": 28
        },
        {
          "output_type": "display_data",
          "data": {
            "image/png": "[encoded data removed]",
            "text/plain": [
              "<Figure size 432x288 with 2 Axes>"
            ]
          },
          "metadata": {
            "tags": [],
            "needs_background": "light"
          }
        }
      ]
    },
    {
      "cell_type": "markdown",
      "metadata": {
        "id": "BHdc_VOLdkfE"
      },
      "source": [
        "Tunando Hiperparâmetros para ver se melhora a eficácia do modelo ( 1. Round)"
      ]
    },
    {
      "cell_type": "code",
      "metadata": {
        "id": "7xE2PMoFEmOc"
      },
      "source": [
        "#param_grid = { 'max_depth': [3, 4, 5], 'learning_rate': [0.1, 0.01, 0.05], 'gamma': [0, 0.25, 1.0],\r\n",
        "#              'reg_lambda': [0, 1.0, 10.0], 'scale_pos_weight': [1, 3, 5]}\r\n",
        "\r\n",
        "#optimal_params = GridSearchCV(estimator=xgb.XGBClassifier(objective='binary:logistic', seed=42, subsample=0.9, colsample_by_tree=0.5),\r\n",
        "#                            param_grid=param_grid, scoring='roc_auc', verbose=0, n_jobs=10, cv=3)\r\n",
        "#optimal_params.fit(X_train, y_train, early_stopping_rounds=10, eval_metric='auc', eval_set=[(X_test, y_test)], verbose=False)\r\n",
        "\r\n",
        "#print(optimal_params.best_params_)\r\n"
      ],
      "execution_count": null,
      "outputs": []
    },
    {
      "cell_type": "markdown",
      "metadata": {
        "id": "Gt9B2Nh6n33l"
      },
      "source": [
        "2. Round:"
      ]
    },
    {
      "cell_type": "code",
      "metadata": {
        "id": "OUB9IIAMgofg"
      },
      "source": [
        "#param_grid = { 'max_depth': [5, 6, 7], 'learning_rate': [0.1, 0.5, 1], 'gamma': [0.25],\r\n",
        "#              'reg_lambda': [0], 'scale_pos_weight': [5, 7, 9]}\r\n",
        "\r\n",
        "#optimal_params = GridSearchCV(estimator=xgb.XGBClassifier(objective='binary:logistic', seed=42, subsample=0.9, colsample_by_tree=0.5),\r\n",
        "#                            param_grid=param_grid, scoring='roc_auc', verbose=0, n_jobs=10, cv=3)\r\n",
        "#optimal_params.fit(X_train, y_train, early_stopping_rounds=10, eval_metric='auc', eval_set=[(X_test, y_test)], verbose=False)\r\n",
        "\r\n",
        "\r\n",
        "#print(optimal_params.best_params_)"
      ],
      "execution_count": null,
      "outputs": []
    },
    {
      "cell_type": "markdown",
      "metadata": {
        "id": "iW_SN7QYHljX"
      },
      "source": [
        "3. Round"
      ]
    },
    {
      "cell_type": "code",
      "metadata": {
        "id": "8QT90d68GoZz"
      },
      "source": [
        "#param_grid = { 'max_depth': [7, 8, 9], 'learning_rate': [0.5], 'gamma': [0.25],\r\n",
        "#              'reg_lambda': [0], 'scale_pos_weight': [7]}\r\n",
        "\r\n",
        "#optimal_params = GridSearchCV(estimator=xgb.XGBClassifier(objective='binary:logistic', seed=42, subsample=0.9, colsample_by_tree=0.5),\r\n",
        "#                            param_grid=param_grid, scoring='roc_auc', verbose=0, n_jobs=10, cv=3)\r\n",
        "#optimal_params.fit(X_train, y_train, early_stopping_rounds=10, eval_metric='auc', eval_set=[(X_test, y_test)], verbose=False)\r\n",
        "\r\n",
        "\r\n",
        "#print(optimal_params.best_params_)"
      ],
      "execution_count": null,
      "outputs": []
    },
    {
      "cell_type": "markdown",
      "metadata": {
        "id": "mXwu1vvCHoe1"
      },
      "source": [
        "4. Round"
      ]
    },
    {
      "cell_type": "code",
      "metadata": {
        "id": "j2kbgPmgHEWj"
      },
      "source": [
        "#param_grid = { 'max_depth': [9, 10, 11], 'learning_rate': [0.5], 'gamma': [0.25],\r\n",
        "#              'reg_lambda': [0], 'scale_pos_weight': [7]}\r\n",
        "\r\n",
        "#optimal_params = GridSearchCV(estimator=xgb.XGBClassifier(objective='binary:logistic', seed=42, subsample=0.9, colsample_by_tree=0.5),\r\n",
        "#                            param_grid=param_grid, scoring='roc_auc', verbose=0, n_jobs=10, cv=3)\r\n",
        "#optimal_params.fit(X_train, y_train, early_stopping_rounds=10, eval_metric='auc', eval_set=[(X_test, y_test)], verbose=False)\r\n",
        "\r\n",
        "\r\n",
        "#print(optimal_params.best_params_)"
      ],
      "execution_count": null,
      "outputs": []
    },
    {
      "cell_type": "markdown",
      "metadata": {
        "id": "y_5q9M4LGbIa"
      },
      "source": [
        "Veja que os resultados acima deram o parâmetro do meio e o max depth parou de pedir aumentos, então iremos usá-los para testar se o tunning melhore a eficácia.\r\n",
        "\r\n",
        "Para prevenir overfitting estamos usando só 90% da nossa amostra."
      ]
    },
    {
      "cell_type": "code",
      "metadata": {
        "colab": {
          "base_uri": "https://localhost:8080/"
        },
        "id": "jQvfjmRror2A",
        "outputId": "06a07299-dd2c-4067-c464-4126df956205"
      },
      "source": [
        "reg = xgb.XGBClassifier(seed=42, \r\n",
        "                        objective='binary:logistic',\r\n",
        "                        gamma=0.25,\r\n",
        "                        learn_rate=0.5,\r\n",
        "                        max_depth=9,\r\n",
        "                        reg_lambda=0,\r\n",
        "                        scale_pos_weight=7,\r\n",
        "                        subsample=0.9,\r\n",
        "                        colsample_bytree=0.5)\r\n",
        "reg.fit(X_train, y_train, verbose=True, early_stopping_rounds=10, eval_metric = 'aucpr', eval_set=[(X_test, y_test)])"
      ],
      "execution_count": null,
      "outputs": [
        {
          "output_type": "stream",
          "text": [
            "[0]\tvalidation_0-aucpr:0.564372\n",
            "Will train until validation_0-aucpr hasn't improved in 10 rounds.\n",
            "[1]\tvalidation_0-aucpr:0.579174\n",
            "[2]\tvalidation_0-aucpr:0.584845\n",
            "[3]\tvalidation_0-aucpr:0.590685\n",
            "[4]\tvalidation_0-aucpr:0.593356\n",
            "[5]\tvalidation_0-aucpr:0.594075\n",
            "[6]\tvalidation_0-aucpr:0.598642\n",
            "[7]\tvalidation_0-aucpr:0.600193\n",
            "[8]\tvalidation_0-aucpr:0.600183\n",
            "[9]\tvalidation_0-aucpr:0.601468\n",
            "[10]\tvalidation_0-aucpr:0.602397\n",
            "[11]\tvalidation_0-aucpr:0.603016\n",
            "[12]\tvalidation_0-aucpr:0.6028\n",
            "[13]\tvalidation_0-aucpr:0.60361\n",
            "[14]\tvalidation_0-aucpr:0.605221\n",
            "[15]\tvalidation_0-aucpr:0.606058\n",
            "[16]\tvalidation_0-aucpr:0.606012\n",
            "[17]\tvalidation_0-aucpr:0.607197\n",
            "[18]\tvalidation_0-aucpr:0.612002\n",
            "[19]\tvalidation_0-aucpr:0.609952\n",
            "[20]\tvalidation_0-aucpr:0.609776\n",
            "[21]\tvalidation_0-aucpr:0.609742\n",
            "[22]\tvalidation_0-aucpr:0.609268\n",
            "[23]\tvalidation_0-aucpr:0.609679\n",
            "[24]\tvalidation_0-aucpr:0.609888\n",
            "[25]\tvalidation_0-aucpr:0.609808\n",
            "[26]\tvalidation_0-aucpr:0.610011\n",
            "[27]\tvalidation_0-aucpr:0.610468\n",
            "[28]\tvalidation_0-aucpr:0.610821\n",
            "Stopping. Best iteration:\n",
            "[18]\tvalidation_0-aucpr:0.612002\n",
            "\n"
          ],
          "name": "stdout"
        },
        {
          "output_type": "execute_result",
          "data": {
            "text/plain": [
              "XGBClassifier(base_score=0.5, booster='gbtree', colsample_bylevel=1,\n",
              "              colsample_bynode=1, colsample_bytree=0.5, gamma=0.25,\n",
              "              learn_rate=0.5, learning_rate=0.1, max_delta_step=0, max_depth=9,\n",
              "              min_child_weight=1, missing=None, n_estimators=100, n_jobs=1,\n",
              "              nthread=None, objective='binary:logistic', random_state=0,\n",
              "              reg_alpha=0, reg_lambda=0, scale_pos_weight=7, seed=42,\n",
              "              silent=None, subsample=0.9, verbosity=1)"
            ]
          },
          "metadata": {
            "tags": []
          },
          "execution_count": 33
        }
      ]
    },
    {
      "cell_type": "markdown",
      "metadata": {
        "id": "CfQYof6qJjdu"
      },
      "source": [
        "Parece que houve uma melhora, antes o nosso modelo atingia no máximo 0.57 agora estamos com 0.60! Vamos se a matriz de confusão melhorou:"
      ]
    },
    {
      "cell_type": "code",
      "metadata": {
        "colab": {
          "base_uri": "https://localhost:8080/",
          "height": 296
        },
        "id": "6H3mOedZI8Ck",
        "outputId": "7abb4dfd-ca24-4ec2-df19-dbc7195009ba"
      },
      "source": [
        "plot_confusion_matrix(reg, X_test, y_test, values_format='d', display_labels=['Não convertidos', 'Convertidos'])\r\n"
      ],
      "execution_count": null,
      "outputs": [
        {
          "output_type": "execute_result",
          "data": {
            "text/plain": [
              "<sklearn.metrics._plot.confusion_matrix.ConfusionMatrixDisplay at 0x7fbd05702f60>"
            ]
          },
          "metadata": {
            "tags": []
          },
          "execution_count": 34
        },
        {
          "output_type": "display_data",
          "data": {
            "image/png": "[encoded data removed]",
            "text/plain": [
              "<Figure size 432x288 with 2 Axes>"
            ]
          },
          "metadata": {
            "tags": [],
            "needs_background": "light"
          }
        }
      ]
    },
    {
      "cell_type": "code",
      "metadata": {
        "colab": {
          "base_uri": "https://localhost:8080/"
        },
        "id": "0f1WJN67Jolo",
        "outputId": "1b7e7775-5c58-46d4-e925-59ea02028754"
      },
      "source": [
        "y_pred = reg.predict(X_test)\r\n",
        "\r\n",
        "#Precision \r\n",
        "tn, fp, fn, tp = confusion_matrix(y_test, y_pred).ravel()\r\n",
        "\r\n",
        "Precision = tp/(tp+fp) \r\n",
        "print(\"Precision {:0.2f}\".format(Precision))\r\n",
        "Recall = tp/(tp+fn) \r\n",
        "print(\"Recall {:0.2f}\".format(Recall))\r\n",
        "f1 = (2*Precision*Recall)/(Precision + Recall)\r\n",
        "print(\"F1 Score {:0.2f}\".format(f1))\r\n",
        "#Specificity \r\n",
        "Specificity = tn/(tn+fp)\r\n",
        "print(\"Specificity {:0.2f}\".format(Specificity))\r\n"
      ],
      "execution_count": null,
      "outputs": [
        {
          "output_type": "stream",
          "text": [
            "Precision 0.52\n",
            "Recall 1.00\n",
            "F1 Score 0.68\n",
            "Specificity 0.04\n"
          ],
          "name": "stdout"
        }
      ]
    },
    {
      "cell_type": "code",
      "metadata": {
        "colab": {
          "base_uri": "https://localhost:8080/",
          "height": 283
        },
        "id": "Afd9-5-EKj4R",
        "outputId": "d1274021-66a7-4934-d87b-494c888700bc"
      },
      "source": [
        "cf_matrix = confusion_matrix(y_test, y_pred)\r\n",
        "sns.heatmap(cf_matrix/np.sum(cf_matrix), annot=True, \r\n",
        "            fmt='.2%', cmap='Blues')"
      ],
      "execution_count": null,
      "outputs": [
        {
          "output_type": "execute_result",
          "data": {
            "text/plain": [
              "<matplotlib.axes._subplots.AxesSubplot at 0x7fbcfc7828d0>"
            ]
          },
          "metadata": {
            "tags": []
          },
          "execution_count": 36
        },
        {
          "output_type": "display_data",
          "data": {
            "image/png": "[encoded data removed]",
            "text/plain": [
              "<Figure size 432x288 with 2 Axes>"
            ]
          },
          "metadata": {
            "tags": [],
            "needs_background": "light"
          }
        }
      ]
    },
    {
      "cell_type": "markdown",
      "metadata": {
        "id": "epwO8Or6Ks2C"
      },
      "source": [
        "Comparando com o anterior: \r\n",
        "Precision 0.78\r\n",
        "Recall 0.08\r\n",
        "F1 Score 0.14\r\n",
        "Specificity 0.98\r\n",
        "\r\n",
        "Percebe-se:\r\n",
        "- Piora na precisão, Recall de 100%, melhora no F1 Score e piora no Specificity"
      ]
    },
    {
      "cell_type": "markdown",
      "metadata": {
        "id": "EZTNbH0AMlkZ"
      },
      "source": [
        "Vamos tentar outro modelo? Que tal um mais simples como SVM?"
      ]
    },
    {
      "cell_type": "code",
      "metadata": {
        "id": "TUKU4RXsKnwo"
      },
      "source": [
        "# Para o SVM é bom termos todos eles escalados.\r\n",
        "\r\n",
        "X_train_scaled = scale(X_train)\r\n",
        "X_test_scaled = scale(X_test)"
      ],
      "execution_count": null,
      "outputs": []
    },
    {
      "cell_type": "code",
      "metadata": {
        "colab": {
          "base_uri": "https://localhost:8080/"
        },
        "id": "X50fvBI2PF4u",
        "outputId": "0c1caca5-4c8f-45fd-c1a1-bb54a0019659"
      },
      "source": [
        "clf_svm = sklearn.svm.SVC(random_state=42)\r\n",
        "\r\n",
        "clf_svm.fit(X_train_scaled, y_train)"
      ],
      "execution_count": null,
      "outputs": [
        {
          "output_type": "execute_result",
          "data": {
            "text/plain": [
              "SVC(C=1.0, break_ties=False, cache_size=200, class_weight=None, coef0=0.0,\n",
              "    decision_function_shape='ovr', degree=3, gamma='scale', kernel='rbf',\n",
              "    max_iter=-1, probability=False, random_state=42, shrinking=True, tol=0.001,\n",
              "    verbose=False)"
            ]
          },
          "metadata": {
            "tags": []
          },
          "execution_count": 38
        }
      ]
    },
    {
      "cell_type": "code",
      "metadata": {
        "colab": {
          "base_uri": "https://localhost:8080/",
          "height": 296
        },
        "id": "b_ANk2h9PUh2",
        "outputId": "79eeb210-0325-4c8a-df1e-6f6ce48fac0a"
      },
      "source": [
        "plot_confusion_matrix(clf_svm, X_test_scaled, y_test, values_format='d', display_labels=['Não convertidos', 'Convertidos'])\r\n"
      ],
      "execution_count": null,
      "outputs": [
        {
          "output_type": "execute_result",
          "data": {
            "text/plain": [
              "<sklearn.metrics._plot.confusion_matrix.ConfusionMatrixDisplay at 0x7fbd05711668>"
            ]
          },
          "metadata": {
            "tags": []
          },
          "execution_count": 39
        },
        {
          "output_type": "display_data",
          "data": {
            "image/png": "[encoded data removed]",
            "text/plain": [
              "<Figure size 432x288 with 2 Axes>"
            ]
          },
          "metadata": {
            "tags": [],
            "needs_background": "light"
          }
        }
      ]
    },
    {
      "cell_type": "code",
      "metadata": {
        "colab": {
          "base_uri": "https://localhost:8080/",
          "height": 350
        },
        "id": "pYkv-ui_RI-P",
        "outputId": "c895e1f7-76ad-4145-b7cd-78cedbe7f8a9"
      },
      "source": [
        "y_pred = clf_svm.predict(X_test_scaled)\r\n",
        "\r\n",
        "#Precision \r\n",
        "tn, fp, fn, tp = confusion_matrix(y_test, y_pred).ravel()\r\n",
        "\r\n",
        "Precision = tp/(tp+fp) \r\n",
        "print(\"Precision {:0.2f}\".format(Precision))\r\n",
        "Recall = tp/(tp+fn) \r\n",
        "print(\"Recall {:0.2f}\".format(Recall))\r\n",
        "f1 = (2*Precision*Recall)/(Precision + Recall)\r\n",
        "print(\"F1 Score {:0.2f}\".format(f1))\r\n",
        "#Specificity \r\n",
        "Specificity = tn/(tn+fp)\r\n",
        "print(\"Specificity {:0.2f}\".format(Specificity))\r\n",
        "\r\n",
        "cf_matrix = confusion_matrix(y_test, y_pred)\r\n",
        "sns.heatmap(cf_matrix/np.sum(cf_matrix), annot=True, \r\n",
        "            fmt='.2%', cmap='Blues')\r\n",
        "\r\n"
      ],
      "execution_count": null,
      "outputs": [
        {
          "output_type": "stream",
          "text": [
            "Precision 0.82\n",
            "Recall 0.10\n",
            "F1 Score 0.18\n",
            "Specificity 0.98\n"
          ],
          "name": "stdout"
        },
        {
          "output_type": "execute_result",
          "data": {
            "text/plain": [
              "<matplotlib.axes._subplots.AxesSubplot at 0x7fbcfc638630>"
            ]
          },
          "metadata": {
            "tags": []
          },
          "execution_count": 40
        },
        {
          "output_type": "display_data",
          "data": {
            "image/png": "[encoded data removed]",
            "text/plain": [
              "<Figure size 432x288 with 2 Axes>"
            ]
          },
          "metadata": {
            "tags": [],
            "needs_background": "light"
          }
        }
      ]
    },
    {
      "cell_type": "markdown",
      "metadata": {
        "id": "jaVEXq5HSBrA"
      },
      "source": [
        "Performance horrível no SVM também... Vamos ver se tunando os parâmetros melhoramos este resultado."
      ]
    },
    {
      "cell_type": "code",
      "metadata": {
        "id": "5HRZuaHXRphq"
      },
      "source": [
        "#param_grid = [ \r\n",
        "# {   'C': [0.5, 1, 10, 100],\r\n",
        "#    'gamma': ['scale', 1, 0.1, 0.01, 0.001, 0.0001],\r\n",
        "#    'kernel': ['rbf']}\r\n",
        "#]\r\n",
        "\r\n",
        "#optimal_params = GridSearchCV(\r\n",
        "#    sklearn.svm.SVC(),\r\n",
        "#    param_grid,\r\n",
        "#    cv=5,\r\n",
        "#    scoring='f1'\r\n",
        "#)\r\n",
        "\r\n",
        "#optimal_params.fit(X_train_scaled, y_train)\r\n",
        "#print(optimal_params.best_params_)"
      ],
      "execution_count": null,
      "outputs": []
    },
    {
      "cell_type": "markdown",
      "metadata": {
        "id": "CtJi08ahq2Cq"
      },
      "source": [
        "Esse tunning demorou mais de 3 horas!"
      ]
    },
    {
      "cell_type": "code",
      "metadata": {
        "colab": {
          "base_uri": "https://localhost:8080/"
        },
        "id": "mIXEiE8Oq4uq",
        "outputId": "190bdb4d-4d72-4f54-95bd-34c9e1c8e4d2"
      },
      "source": [
        "clf_svm = sklearn.svm.SVC(random_state=42, C=100, gamma = 1)\r\n",
        "\r\n",
        "clf_svm.fit(X_train_scaled, y_train)"
      ],
      "execution_count": null,
      "outputs": [
        {
          "output_type": "execute_result",
          "data": {
            "text/plain": [
              "SVC(C=100, break_ties=False, cache_size=200, class_weight=None, coef0=0.0,\n",
              "    decision_function_shape='ovr', degree=3, gamma=1, kernel='rbf', max_iter=-1,\n",
              "    probability=False, random_state=42, shrinking=True, tol=0.001,\n",
              "    verbose=False)"
            ]
          },
          "metadata": {
            "tags": []
          },
          "execution_count": 42
        }
      ]
    },
    {
      "cell_type": "code",
      "metadata": {
        "colab": {
          "base_uri": "https://localhost:8080/",
          "height": 296
        },
        "id": "lIYPqteMtGdW",
        "outputId": "2ea23ff2-0f7b-4f2e-e0fa-26719b33f0a0"
      },
      "source": [
        "plot_confusion_matrix(clf_svm, X_test_scaled, y_test, values_format='d', display_labels=['Não convertidos', 'Convertidos'])"
      ],
      "execution_count": null,
      "outputs": [
        {
          "output_type": "execute_result",
          "data": {
            "text/plain": [
              "<sklearn.metrics._plot.confusion_matrix.ConfusionMatrixDisplay at 0x7fbcfc69b550>"
            ]
          },
          "metadata": {
            "tags": []
          },
          "execution_count": 43
        },
        {
          "output_type": "display_data",
          "data": {
            "image/png": "[encoded data removed]",
            "text/plain": [
              "<Figure size 432x288 with 2 Axes>"
            ]
          },
          "metadata": {
            "tags": [],
            "needs_background": "light"
          }
        }
      ]
    },
    {
      "cell_type": "code",
      "metadata": {
        "colab": {
          "base_uri": "https://localhost:8080/",
          "height": 350
        },
        "id": "KfEZQ5DIrQ1d",
        "outputId": "2c4a03c8-02d9-453d-9657-4570e34a3c26"
      },
      "source": [
        "y_pred = clf_svm.predict(X_test_scaled)\r\n",
        "\r\n",
        "#Precision \r\n",
        "tn, fp, fn, tp = confusion_matrix(y_test, y_pred).ravel()\r\n",
        "\r\n",
        "Precision = tp/(tp+fp) \r\n",
        "print(\"Precision {:0.2f}\".format(Precision))\r\n",
        "Recall = tp/(tp+fn) \r\n",
        "print(\"Recall {:0.2f}\".format(Recall))\r\n",
        "f1 = (2*Precision*Recall)/(Precision + Recall)\r\n",
        "print(\"F1 Score {:0.2f}\".format(f1))\r\n",
        "#Specificity \r\n",
        "Specificity = tn/(tn+fp)\r\n",
        "print(\"Specificity {:0.2f}\".format(Specificity))\r\n",
        "\r\n",
        "cf_matrix = confusion_matrix(y_test, y_pred)\r\n",
        "sns.heatmap(cf_matrix/np.sum(cf_matrix), annot=True, \r\n",
        "            fmt='.2%', cmap='Blues')"
      ],
      "execution_count": null,
      "outputs": [
        {
          "output_type": "stream",
          "text": [
            "Precision 0.85\n",
            "Recall 0.07\n",
            "F1 Score 0.13\n",
            "Specificity 0.99\n"
          ],
          "name": "stdout"
        },
        {
          "output_type": "execute_result",
          "data": {
            "text/plain": [
              "<matplotlib.axes._subplots.AxesSubplot at 0x7fbcfc55ec18>"
            ]
          },
          "metadata": {
            "tags": []
          },
          "execution_count": 44
        },
        {
          "output_type": "display_data",
          "data": {
            "image/png": "[encoded data removed]",
            "text/plain": [
              "<Figure size 432x288 with 2 Axes>"
            ]
          },
          "metadata": {
            "tags": [],
            "needs_background": "light"
          }
        }
      ]
    },
    {
      "cell_type": "markdown",
      "metadata": {
        "id": "XdwvZh69spc_"
      },
      "source": [
        "Comparando com o resultado anterior:\r\n",
        "\r\n",
        "Precision 0.80\r\n",
        "Recall 0.10\r\n",
        "F1 Score 0.18\r\n",
        "Specificity 0.97\r\n",
        "\r\n",
        "Percebemos apenas uma ligeira melhora na precisão, de resto, piorou o resultado!\r\n",
        "\r\n"
      ]
    },
    {
      "cell_type": "code",
      "metadata": {
        "id": "JurPJiaoqV_A"
      },
      "source": [
        ""
      ],
      "execution_count": null,
      "outputs": []
    },
    {
      "cell_type": "code",
      "metadata": {
        "colab": {
          "base_uri": "https://localhost:8080/",
          "height": 262
        },
        "id": "3EjpivJosgYi",
        "outputId": "bcc6c6a4-d844-43f1-95b8-7194e729d50e"
      },
      "source": [
        "pca = PCA()\r\n",
        "X_train_pca = pca.fit_transform(X_train_scaled)\r\n",
        "\r\n",
        "per_var = np.round(pca.explained_variance_ratio_ * 100, decimals = 1)\r\n",
        "\r\n",
        "labels = [str(x) for x in range(1, len(per_var) + 1)]\r\n",
        "\r\n",
        "plt.bar(x=range(1, len(per_var)+1), height=per_var)\r\n",
        "\r\n",
        "plt.tick_params( \r\n",
        "    axis='x',\r\n",
        "    which='both',\r\n",
        "    top=False,\r\n",
        "    labelbottom=False\r\n",
        ")\r\n",
        "\r\n",
        "plt.ylabel('Percentual da Variância Explicada')\r\n",
        "plt.xlabel('Componentes Principais')\r\n",
        "plt.show()\r\n"
      ],
      "execution_count": null,
      "outputs": [
        {
          "output_type": "display_data",
          "data": {
            "image/png": "[encoded data removed]",
            "text/plain": [
              "<Figure size 432x288 with 1 Axes>"
            ]
          },
          "metadata": {
            "tags": [],
            "needs_background": "light"
          }
        }
      ]
    },
    {
      "cell_type": "markdown",
      "metadata": {
        "id": "SDJgWaUo3ES8"
      },
      "source": [
        "Parece que só a primeira variável explica a maior parte do resultado. Vamos ver como vai ficar."
      ]
    },
    {
      "cell_type": "code",
      "metadata": {
        "id": "NriZZJgQ20rF"
      },
      "source": [
        "train_pc1_words = X_train_pca[:,0]\r\n",
        "train_pc2_words = X_train_pca[:,1]\r\n",
        "\r\n",
        "\r\n",
        "pca_train_scaled = scale(np.column_stack((train_pc1_words, train_pc2_words)))\r\n",
        "\r\n",
        "param_grid = [{ 'C': [1, 10, 100, 1000],\r\n",
        "              'gamma': ['scale', 1, 0.1, 0.01, 0.001, 0.0001],\r\n",
        "              'kernel': ['rbf'] },\r\n",
        "              ]\r\n",
        "\r\n",
        "optimal_params = GridSearchCV(\r\n",
        "    sklearn.svm.SVC(),\r\n",
        "    param_grid,\r\n",
        "    cv=5,\r\n",
        "    scoring='f1',\r\n",
        "    verbose=0\r\n",
        ")\r\n",
        "\r\n",
        "optimal_params.fit(pca_train_scaled, y_train)\r\n",
        "print(optimal_params.best_params_)\r\n",
        "\r\n",
        "\r\n"
      ],
      "execution_count": null,
      "outputs": []
    },
    {
      "cell_type": "code",
      "metadata": {
        "colab": {
          "base_uri": "https://localhost:8080/"
        },
        "id": "DPMAtpsYKksC",
        "outputId": "134beaf1-60c1-497f-d88b-2f29618180d9"
      },
      "source": [
        "print(optimal_params.best_params_)"
      ],
      "execution_count": null,
      "outputs": [
        {
          "output_type": "stream",
          "text": [
            "{'C': 1000, 'gamma': 1, 'kernel': 'rbf'}\n"
          ],
          "name": "stdout"
        }
      ]
    },
    {
      "cell_type": "code",
      "metadata": {
        "colab": {
          "base_uri": "https://localhost:8080/",
          "height": 621
        },
        "id": "udZ3Wdls4NIt",
        "outputId": "6aaf7908-88cd-4bf5-a2d2-969e33bafaf5"
      },
      "source": [
        "clf_svm = sklearn.svm.SVC(random_state = 42, C=1000, gamma=1)\r\n",
        "clf_svm.fit(pca_train_scaled, y_train)\r\n",
        "\r\n",
        "# Transformar the database test com o PCA\r\n",
        "X_test_pca = pca.transform(X_train_scaled)\r\n",
        "test_pc1_coords = X_test_pca[:,0]\r\n",
        "test_pc2_coords = X_test_pca[:,1]\r\n",
        "\r\n",
        "x_min = test_pc1_coords.min() - 1\r\n",
        "x_max = test_pc1_coords.max() + 1\r\n",
        "\r\n",
        "y_min = test_pc2_coords.min() - 1\r\n",
        "y_max = test_pc2_coords.max() + 1\r\n",
        "\r\n",
        "xx, yy = np.meshgrid(np.arange(start=x_min, stop=x_max, step=0.1),\r\n",
        "                     np.arange(start=y_min, stop=y_max, step=0.1))\r\n",
        "\r\n",
        "Z = clf_svm.predict(np.column_stack((xx.ravel(), yy.ravel())))\r\n",
        "\r\n",
        "Z = Z.reshape(xx.shape)\r\n",
        "\r\n",
        "fig, ax = plt.subplots(figsize=(10,10))\r\n",
        "\r\n",
        "ax.contourf(xx,yy, Z, alpha=0.1)\r\n",
        "\r\n",
        "cmap = colors.ListedColormap(['#e41a1c', '#4daf4a'])\r\n",
        "\r\n",
        "scatter = ax.scatter(test_pc1_coords, test_pc2_coords, c=y_train,\r\n",
        "                     cmap=cmap,\r\n",
        "                     s=100,\r\n",
        "                     edgecolors='k', \r\n",
        "                     alpha=0.7)\r\n",
        "legend= ax.legend(scatter.legend_elements()[0],\r\n",
        "                  scatter.legend_elements()[1],\r\n",
        "                  loc=\"upper right\")\r\n",
        "legend.get_texts()[0].set_text(\"Não convertidos\")\r\n",
        "legend.get_texts()[1].set_text(\"Convertidos\")\r\n",
        "\r\n",
        "ax.set_ylabel('PC2')\r\n",
        "ax.set_xlabel('PC1')\r\n",
        "ax.set_title('Superfície de Decisão usando PCA')\r\n",
        "plt.show()\r\n",
        "\r\n",
        "\r\n"
      ],
      "execution_count": null,
      "outputs": [
        {
          "output_type": "display_data",
          "data": {
            "image/png": "[encoded data removed]",
            "text/plain": [
              "<Figure size 720x720 with 1 Axes>"
            ]
          },
          "metadata": {
            "tags": [],
            "needs_background": "light"
          }
        }
      ]
    },
    {
      "cell_type": "markdown",
      "metadata": {
        "id": "r5mSxGXysUqN"
      },
      "source": [
        "- Os pontos são dados no DataSet de Treino e são coloridos por suas classificações;\r\n",
        "- Pontos claros foram previstos pelo modelo;\r\n",
        "- Como os dados são feitos a partir dos dados de treino e não de teste, não vão bater com a matriz de confusão.\r\n",
        "- Infelizmente não é um bom modelo para trabalhar com estes dados."
      ]
    },
    {
      "cell_type": "code",
      "metadata": {
        "id": "AcxflBbzLe1d"
      },
      "source": [
        ""
      ],
      "execution_count": null,
      "outputs": []
    }
  ]
}